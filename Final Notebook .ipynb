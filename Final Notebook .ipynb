{
 "cells": [
  {
   "cell_type": "markdown",
   "metadata": {},
   "source": [
    "# Sentiment Analysis of Financial Markets"
   ]
  },
  {
   "cell_type": "code",
   "execution_count": 5,
   "metadata": {
    "tags": []
   },
   "outputs": [],
   "source": [
    "import os\n",
    "import tweepy as tw\n",
    "import pandas as pd\n",
    "import re"
   ]
  },
  {
   "cell_type": "code",
   "execution_count": 6,
   "metadata": {},
   "outputs": [],
   "source": [
    "consumer_key= 'JOGSChqr8oFXBzTKBZTpcoKmB'\n",
    "consumer_secret= 'DWVHV3PZzV0nPoJL5sK5CpRYhpR5qgDlMHECZJEQiZ9kOBNUoS'\n",
    "access_token= '1325077157777969153-INPVeQy3khix6tcSboVFt7uGvqdC1H'\n",
    "access_token_secret= 'w6PPIs1F1MqPoMKEQ46AiYbAdF1crDLfe73rzLVi2v0nx'"
   ]
  },
  {
   "cell_type": "code",
   "execution_count": 7,
   "metadata": {},
   "outputs": [],
   "source": [
    "auth = tw.OAuthHandler(consumer_key, consumer_secret)\n",
    "auth.set_access_token(access_token, access_token_secret)\n",
    "api = tw.API(auth, wait_on_rate_limit=True)\n"
   ]
  },
  {
   "cell_type": "code",
   "execution_count": null,
   "metadata": {},
   "outputs": [],
   "source": [
    "# Define the search term and the date_since date as variables\n",
    "search_words = \"stock markets\"\n",
    "new_search = search_words + \"-filter:retweets\"\n",
    "new_search\n",
    "\n",
    "\n",
    "tweets = tw.Cursor(api.search_tweets,q=search_words,lang=\"en\").items(5000)\n",
    "\n",
    "tweet_text= [[tweet.text] for tweet in tweets]\n",
    "\n",
    "tweet_data = pd.DataFrame(data=tweet_text, columns=[\"Text\"])"
   ]
  },
  {
   "cell_type": "code",
   "execution_count": null,
   "metadata": {},
   "outputs": [],
   "source": [
    "tweet_data.head()"
   ]
  },
  {
   "cell_type": "code",
   "execution_count": 8,
   "metadata": {},
   "outputs": [
    {
     "name": "stdout",
     "output_type": "stream",
     "text": [
      "2021-10-29 12:00:28,039 loading file C:\\Users\\Diyora\\.flair\\models\\sentiment-en-mix-distillbert_4.pt\n"
     ]
    }
   ],
   "source": [
    "import flair\n",
    "sentiment_model = flair.models.TextClassifier.load('en-sentiment')"
   ]
  },
  {
   "cell_type": "code",
   "execution_count": 9,
   "metadata": {},
   "outputs": [],
   "source": [
    "sentence = flair.data.Sentence(\"Hello sucker\")\n",
    "sentiment_model.predict(sentence)"
   ]
  },
  {
   "cell_type": "code",
   "execution_count": 10,
   "metadata": {},
   "outputs": [
    {
     "data": {
      "text/plain": [
       "Sentence: \"Hello sucker\"   [− Tokens: 2  − Sentence-Labels: {'label': [NEGATIVE (0.9303)]}]"
      ]
     },
     "execution_count": 10,
     "metadata": {},
     "output_type": "execute_result"
    }
   ],
   "source": [
    "sentence"
   ]
  },
  {
   "cell_type": "code",
   "execution_count": 11,
   "metadata": {},
   "outputs": [],
   "source": [
    "sentence1 = flair.data.Sentence(\"you look happy\")\n",
    "sentiment_model.predict(sentence1)"
   ]
  },
  {
   "cell_type": "code",
   "execution_count": 12,
   "metadata": {},
   "outputs": [
    {
     "data": {
      "text/plain": [
       "Sentence: \"you look happy\"   [− Tokens: 3  − Sentence-Labels: {'label': [POSITIVE (0.992)]}]"
      ]
     },
     "execution_count": 12,
     "metadata": {},
     "output_type": "execute_result"
    }
   ],
   "source": [
    "sentence1"
   ]
  },
  {
   "cell_type": "code",
   "execution_count": null,
   "metadata": {},
   "outputs": [],
   "source": [
    "sentiments = []\n",
    "for tweet in tweet_data['Text']: \n",
    "    sentence = flair.data.Sentence(tweet)\n",
    "    sentiment_model.predict(sentence)  \n",
    "    sentiments.append(sentence.labels[0].value)\n",
    "    \n",
    "tweet_data['Sentiment'] = sentiments"
   ]
  },
  {
   "cell_type": "code",
   "execution_count": null,
   "metadata": {},
   "outputs": [],
   "source": [
    "sentiment_dict={\"POSITIVE\": 1, \"NEGATIVE\": -1 }"
   ]
  },
  {
   "cell_type": "code",
   "execution_count": null,
   "metadata": {},
   "outputs": [],
   "source": [
    "import numpy as np\n",
    "tweet_data[\"Sentiment\"]=tweet_data[\"Sentiment\"].map(sentiment_dict)"
   ]
  },
  {
   "cell_type": "code",
   "execution_count": null,
   "metadata": {},
   "outputs": [],
   "source": [
    "tweet_data"
   ]
  },
  {
   "cell_type": "code",
   "execution_count": null,
   "metadata": {},
   "outputs": [],
   "source": [
    "tweet_data.to_csv(r'C:\\Users\\Diyora\\Python\\Mini Project\\Our_tweets.csv')"
   ]
  },
  {
   "cell_type": "code",
   "execution_count": 14,
   "metadata": {},
   "outputs": [],
   "source": [
    "# Data imports\n",
    "import re\n",
    "import numpy as np\n",
    "import pandas as pd\n",
    "import matplotlib.pyplot as plt\n",
    "\n",
    "# # ML imports\n",
    "from sklearn.model_selection import train_test_split,GridSearchCV\n",
    "from tensorflow.keras.models import Sequential, load_model\n",
    "from tensorflow.keras.layers import Dense, Dropout, LSTM, GRU, Embedding\n",
    "from tensorflow.keras.preprocessing.text import Tokenizer\n",
    "from tensorflow.keras.preprocessing.sequence import pad_sequences\n",
    "from sklearn.metrics import precision_score,recall_score\n"
   ]
  },
  {
   "cell_type": "code",
   "execution_count": 15,
   "metadata": {},
   "outputs": [
    {
     "name": "stdout",
     "output_type": "stream",
     "text": [
      "(5000, 3)\n"
     ]
    },
    {
     "data": {
      "text/html": [
       "<div>\n",
       "<style scoped>\n",
       "    .dataframe tbody tr th:only-of-type {\n",
       "        vertical-align: middle;\n",
       "    }\n",
       "\n",
       "    .dataframe tbody tr th {\n",
       "        vertical-align: top;\n",
       "    }\n",
       "\n",
       "    .dataframe thead th {\n",
       "        text-align: right;\n",
       "    }\n",
       "</style>\n",
       "<table border=\"1\" class=\"dataframe\">\n",
       "  <thead>\n",
       "    <tr style=\"text-align: right;\">\n",
       "      <th></th>\n",
       "      <th>Text</th>\n",
       "      <th>Sentiment</th>\n",
       "    </tr>\n",
       "  </thead>\n",
       "  <tbody>\n",
       "    <tr>\n",
       "      <th>0</th>\n",
       "      <td>a_peek_into_the_markets aapl aci dis earnings ...</td>\n",
       "      <td>1</td>\n",
       "    </tr>\n",
       "    <tr>\n",
       "      <th>1</th>\n",
       "      <td>a peek into the markets  us stock futures down...</td>\n",
       "      <td>-1</td>\n",
       "    </tr>\n",
       "    <tr>\n",
       "      <th>2</th>\n",
       "      <td>us futures fall as inflation fears grow and ch...</td>\n",
       "      <td>-1</td>\n",
       "    </tr>\n",
       "    <tr>\n",
       "      <th>3</th>\n",
       "      <td>a peek into the markets us stock futures down ...</td>\n",
       "      <td>-1</td>\n",
       "    </tr>\n",
       "    <tr>\n",
       "      <th>4</th>\n",
       "      <td>shukla_tarun itccorpcom  think of it as the ev...</td>\n",
       "      <td>-1</td>\n",
       "    </tr>\n",
       "  </tbody>\n",
       "</table>\n",
       "</div>"
      ],
      "text/plain": [
       "                                                Text  Sentiment\n",
       "0  a_peek_into_the_markets aapl aci dis earnings ...          1\n",
       "1  a peek into the markets  us stock futures down...         -1\n",
       "2  us futures fall as inflation fears grow and ch...         -1\n",
       "3  a peek into the markets us stock futures down ...         -1\n",
       "4  shukla_tarun itccorpcom  think of it as the ev...         -1"
      ]
     },
     "execution_count": 15,
     "metadata": {},
     "output_type": "execute_result"
    }
   ],
   "source": [
    "tweet_data=pd.read_csv(\"5k_tweets.csv\")\n",
    "tweet_data['Text'] = tweet_data['Text'].apply(lambda x: x.lower())  # transform text to lowercase\n",
    "tweet_data['Text'] = tweet_data['Text'].apply(lambda x: re.sub('[^a-zA-z0-9\\s]', '', x)) #accepting everything that is a letter or digit\n",
    "print(tweet_data.shape)\n",
    "tweet_data=tweet_data.drop(\"Unnamed: 0\", axis= 1)\n",
    "tweet_data.head(5)\n"
   ]
  },
  {
   "cell_type": "code",
   "execution_count": 16,
   "metadata": {},
   "outputs": [
    {
     "name": "stdout",
     "output_type": "stream",
     "text": [
      "(5791, 2)\n"
     ]
    },
    {
     "data": {
      "text/html": [
       "<div>\n",
       "<style scoped>\n",
       "    .dataframe tbody tr th:only-of-type {\n",
       "        vertical-align: middle;\n",
       "    }\n",
       "\n",
       "    .dataframe tbody tr th {\n",
       "        vertical-align: top;\n",
       "    }\n",
       "\n",
       "    .dataframe thead th {\n",
       "        text-align: right;\n",
       "    }\n",
       "</style>\n",
       "<table border=\"1\" class=\"dataframe\">\n",
       "  <thead>\n",
       "    <tr style=\"text-align: right;\">\n",
       "      <th></th>\n",
       "      <th>Text</th>\n",
       "      <th>Sentiment</th>\n",
       "    </tr>\n",
       "  </thead>\n",
       "  <tbody>\n",
       "    <tr>\n",
       "      <th>0</th>\n",
       "      <td>same story different dayeaders lagging aggards...</td>\n",
       "      <td>-1</td>\n",
       "    </tr>\n",
       "    <tr>\n",
       "      <th>1</th>\n",
       "      <td>aap bounce coming</td>\n",
       "      <td>1</td>\n",
       "    </tr>\n",
       "    <tr>\n",
       "      <th>2</th>\n",
       "      <td>stxs target is 238 that sucker will give almos...</td>\n",
       "      <td>-1</td>\n",
       "    </tr>\n",
       "    <tr>\n",
       "      <th>3</th>\n",
       "      <td>athn wants the hundreddollaroll</td>\n",
       "      <td>1</td>\n",
       "    </tr>\n",
       "    <tr>\n",
       "      <th>4</th>\n",
       "      <td>sm breaking upper channel resistance line to m...</td>\n",
       "      <td>1</td>\n",
       "    </tr>\n",
       "    <tr>\n",
       "      <th>5</th>\n",
       "      <td>apc weekly setting up long</td>\n",
       "      <td>1</td>\n",
       "    </tr>\n",
       "    <tr>\n",
       "      <th>6</th>\n",
       "      <td>ock star direct tv dtv continues to power high...</td>\n",
       "      <td>1</td>\n",
       "    </tr>\n",
       "    <tr>\n",
       "      <th>7</th>\n",
       "      <td>invn huge accumulation with no selling since j...</td>\n",
       "      <td>1</td>\n",
       "    </tr>\n",
       "    <tr>\n",
       "      <th>8</th>\n",
       "      <td>spy giving aap the finger we dont care about y...</td>\n",
       "      <td>-1</td>\n",
       "    </tr>\n",
       "    <tr>\n",
       "      <th>9</th>\n",
       "      <td>aig american international group option trader...</td>\n",
       "      <td>-1</td>\n",
       "    </tr>\n",
       "    <tr>\n",
       "      <th>10</th>\n",
       "      <td>chk good info user user sp over 1470 and this ...</td>\n",
       "      <td>1</td>\n",
       "    </tr>\n",
       "    <tr>\n",
       "      <th>11</th>\n",
       "      <td>brutal declines on sd will create a buying opp...</td>\n",
       "      <td>1</td>\n",
       "    </tr>\n",
       "    <tr>\n",
       "      <th>12</th>\n",
       "      <td>user user aap didnt rally 10 in 10 minutes jus...</td>\n",
       "      <td>1</td>\n",
       "    </tr>\n",
       "    <tr>\n",
       "      <th>13</th>\n",
       "      <td>aap down 60 and vxap down 11 good that vxap is...</td>\n",
       "      <td>-1</td>\n",
       "    </tr>\n",
       "    <tr>\n",
       "      <th>14</th>\n",
       "      <td>atvi short with a tight stop</td>\n",
       "      <td>-1</td>\n",
       "    </tr>\n",
       "    <tr>\n",
       "      <th>15</th>\n",
       "      <td>aap trend emains down and giving another sell ...</td>\n",
       "      <td>-1</td>\n",
       "    </tr>\n",
       "    <tr>\n",
       "      <th>16</th>\n",
       "      <td>aap trading close to pointfigure trend line su...</td>\n",
       "      <td>-1</td>\n",
       "    </tr>\n",
       "    <tr>\n",
       "      <th>17</th>\n",
       "      <td>investors want massive cuts to global oil supp...</td>\n",
       "      <td>-1</td>\n",
       "    </tr>\n",
       "    <tr>\n",
       "      <th>18</th>\n",
       "      <td>buying back the goog i sold in 730s on the str...</td>\n",
       "      <td>1</td>\n",
       "    </tr>\n",
       "    <tr>\n",
       "      <th>19</th>\n",
       "      <td>sbx solid move today continuing uptrend and ho...</td>\n",
       "      <td>1</td>\n",
       "    </tr>\n",
       "  </tbody>\n",
       "</table>\n",
       "</div>"
      ],
      "text/plain": [
       "                                                 Text  Sentiment\n",
       "0   same story different dayeaders lagging aggards...         -1\n",
       "1                                aap bounce coming             1\n",
       "2   stxs target is 238 that sucker will give almos...         -1\n",
       "3                     athn wants the hundreddollaroll          1\n",
       "4   sm breaking upper channel resistance line to m...          1\n",
       "5                        apc weekly setting up long            1\n",
       "6   ock star direct tv dtv continues to power high...          1\n",
       "7   invn huge accumulation with no selling since j...          1\n",
       "8   spy giving aap the finger we dont care about y...         -1\n",
       "9   aig american international group option trader...         -1\n",
       "10  chk good info user user sp over 1470 and this ...          1\n",
       "11  brutal declines on sd will create a buying opp...          1\n",
       "12  user user aap didnt rally 10 in 10 minutes jus...          1\n",
       "13  aap down 60 and vxap down 11 good that vxap is...         -1\n",
       "14                       atvi short with a tight stop         -1\n",
       "15  aap trend emains down and giving another sell ...         -1\n",
       "16  aap trading close to pointfigure trend line su...         -1\n",
       "17  investors want massive cuts to global oil supp...         -1\n",
       "18  buying back the goog i sold in 730s on the str...          1\n",
       "19  sbx solid move today continuing uptrend and ho...          1"
      ]
     },
     "execution_count": 16,
     "metadata": {},
     "output_type": "execute_result"
    }
   ],
   "source": [
    "df = pd.read_csv(\"stock_data.csv\")\n",
    "df = df.sample(frac=1).reset_index(drop=True)\n",
    "df.head()\n",
    "# clean tweet text\n",
    "df['Text'] = df['Text'].apply(lambda x: x.lower())  # transform text to lowercase\n",
    "df['Text'] = df['Text'].apply(lambda x: re.sub('[^a-zA-z0-9\\s]', '', x)) #accepting everything that is a letter or digit\n",
    "print(df.shape)\n",
    "df.head(20)"
   ]
  },
  {
   "cell_type": "code",
   "execution_count": 17,
   "metadata": {},
   "outputs": [],
   "source": [
    "a=tweet_data.append(df)"
   ]
  },
  {
   "cell_type": "code",
   "execution_count": 18,
   "metadata": {},
   "outputs": [
    {
     "data": {
      "text/plain": [
       "(10791, 2)"
      ]
     },
     "execution_count": 18,
     "metadata": {},
     "output_type": "execute_result"
    }
   ],
   "source": [
    "a.shape"
   ]
  },
  {
   "cell_type": "code",
   "execution_count": 19,
   "metadata": {},
   "outputs": [
    {
     "data": {
      "text/plain": [
       "<AxesSubplot:>"
      ]
     },
     "execution_count": 19,
     "metadata": {},
     "output_type": "execute_result"
    },
    {
     "data": {
      "image/png": "[encoded data removed]",
      "text/plain": [
       "<Figure size 432x288 with 1 Axes>"
      ]
     },
     "metadata": {
      "needs_background": "light"
     },
     "output_type": "display_data"
    }
   ],
   "source": [
    "a['Sentiment'].value_counts().sort_index().plot.bar()"
   ]
  },
  {
   "cell_type": "code",
   "execution_count": 21,
   "metadata": {},
   "outputs": [
    {
     "name": "stdout",
     "output_type": "stream",
     "text": [
      "X tokenized data =  [[   0    0    0    0    0    0    0    0   10  673  187    1   13 1182\n",
      "  3845 2606   57   10  673  187    1   13   54    2   99   84  140   12\n",
      "    57 3846]\n",
      " [   0    0    0    0    0    0    0    0    0    0    0    0    0    0\n",
      "     0    0    0   10  673  187    1   13   54    2   99   84  140   12\n",
      "    57 3847]\n",
      " [   0    0    0    0    0    0    0    0    0    0    0    0    0    0\n",
      "     0    0    0   54   99  415   27  305 1309  809   22  353  129  477\n",
      "  1310 3848]\n",
      " [   0    0    0    0    0    0    0    0    0    0    0    0    0    0\n",
      "     0    0    0   10  673  187    1   13   54    2   99   84  140   12\n",
      "    57 3849]\n",
      " [   0    0    0    0    0    0    0 3850 3851 3852  250   12   37   27\n",
      "     1 3853   68 3854   33  111 2041    3 3855    7  124 2607 1015   20\n",
      "   416 3856]]\n"
     ]
    }
   ],
   "source": [
    "tokenizer = Tokenizer(num_words=5000)\n",
    "tokenizer.fit_on_texts(tweet_data['Text'].values)\n",
    "X = tokenizer.texts_to_sequences(tweet_data['Text'].values)\n",
    "X = pad_sequences(X)\n",
    "print(\"X tokenized data = \", X[:5])"
   ]
  },
  {
   "cell_type": "code",
   "execution_count": 22,
   "metadata": {},
   "outputs": [
    {
     "data": {
      "text/plain": [
       "array([[0, 1],\n",
       "       [1, 0],\n",
       "       [1, 0],\n",
       "       ...,\n",
       "       [0, 1],\n",
       "       [1, 0],\n",
       "       [0, 1]], dtype=uint8)"
      ]
     },
     "execution_count": 22,
     "metadata": {},
     "output_type": "execute_result"
    }
   ],
   "source": [
    "# Y as buckets of Sentiment column\n",
    "y = pd.get_dummies(tweet_data['Sentiment']).values\n",
    "y"
   ]
  },
  {
   "cell_type": "code",
   "execution_count": 23,
   "metadata": {},
   "outputs": [],
   "source": [
    "model = Sequential()\n",
    "model.add(Embedding(10000, 512, input_length=X.shape[1]))\n",
    "model.add(Dropout(0.2))\n",
    "model.add(GRU(512, return_sequences=True, dropout=0.2, recurrent_dropout=0.15))\n",
    "model.add(GRU(512, dropout=0.2, recurrent_dropout=0.15))\n",
    "model.add(Dense(2, activation='softmax'))"
   ]
  },
  {
   "cell_type": "code",
   "execution_count": 24,
   "metadata": {},
   "outputs": [
    {
     "name": "stdout",
     "output_type": "stream",
     "text": [
      "Model: \"sequential\"\n",
      "_________________________________________________________________\n",
      "Layer (type)                 Output Shape              Param #   \n",
      "=================================================================\n",
      "embedding (Embedding)        (None, 30, 512)           5120000   \n",
      "_________________________________________________________________\n",
      "dropout (Dropout)            (None, 30, 512)           0         \n",
      "_________________________________________________________________\n",
      "gru (GRU)                    (None, 30, 512)           1575936   \n",
      "_________________________________________________________________\n",
      "gru_1 (GRU)                  (None, 512)               1575936   \n",
      "_________________________________________________________________\n",
      "dense (Dense)                (None, 2)                 1026      \n",
      "=================================================================\n",
      "Total params: 8,272,898\n",
      "Trainable params: 8,272,898\n",
      "Non-trainable params: 0\n",
      "_________________________________________________________________\n"
     ]
    }
   ],
   "source": [
    "model.compile(loss='categorical_crossentropy', optimizer='adam', metrics=['accuracy'])\n",
    "model.summary()"
   ]
  },
  {
   "cell_type": "code",
   "execution_count": 25,
   "metadata": {},
   "outputs": [],
   "source": [
    "X_train, X_test, y_train, y_test = train_test_split(X, y, test_size=0.2, random_state=0)"
   ]
  },
  {
   "cell_type": "code",
   "execution_count": 26,
   "metadata": {},
   "outputs": [
    {
     "name": "stdout",
     "output_type": "stream",
     "text": [
      "Epoch 1/8\n",
      "125/125 - 170s - loss: 0.3817 - accuracy: 0.7962\n",
      "Epoch 2/8\n",
      "125/125 - 164s - loss: 0.1869 - accuracy: 0.9287\n",
      "Epoch 3/8\n",
      "125/125 - 170s - loss: 0.0982 - accuracy: 0.9622\n",
      "Epoch 4/8\n",
      "125/125 - 176s - loss: 0.0587 - accuracy: 0.9812\n",
      "Epoch 5/8\n",
      "125/125 - 174s - loss: 0.0461 - accuracy: 0.9840\n",
      "Epoch 6/8\n",
      "125/125 - 161s - loss: 0.0359 - accuracy: 0.9883\n",
      "Epoch 7/8\n",
      "125/125 - 163s - loss: 0.0327 - accuracy: 0.9898\n",
      "Epoch 8/8\n",
      "125/125 - 155s - loss: 0.0274 - accuracy: 0.9925\n"
     ]
    }
   ],
   "source": [
    "batch_size = 32\n",
    "epochs = 8\n",
    "\n",
    "history = model.fit(X_train, y_train, epochs=epochs, batch_size=batch_size, verbose=2)"
   ]
  },
  {
   "cell_type": "code",
   "execution_count": 27,
   "metadata": {},
   "outputs": [],
   "source": [
    "Predictions = model.predict(X_test)"
   ]
  },
  {
   "cell_type": "code",
   "execution_count": 28,
   "metadata": {},
   "outputs": [
    {
     "name": "stdout",
     "output_type": "stream",
     "text": [
      "Positive predictions: 531\n",
      "Negative predictions: 469\n",
      "Real neutral: 551\n",
      "Real negative: 449\n"
     ]
    }
   ],
   "source": [
    "pos_count, neg_count = 0, 0\n",
    "real_pos, real_neg = 0, 0\n",
    "for i, prediction in enumerate(Predictions):\n",
    "    if np.argmax(prediction)==1:\n",
    "        pos_count += 1\n",
    "    else:\n",
    "        neg_count += 1\n",
    "    if np.argmax(y_test[i])==1:    \n",
    "        real_pos += 1\n",
    "    else:\n",
    "        real_neg +=1\n",
    "\n",
    "print('Positive predictions:', pos_count)\n",
    "print('Negative predictions:', neg_count)\n",
    "\n",
    "print('Real neutral:', real_pos)\n",
    "print('Real negative:', real_neg)"
   ]
  },
  {
   "cell_type": "code",
   "execution_count": 29,
   "metadata": {},
   "outputs": [],
   "source": [
    "import matplotlib.pyplot as plt"
   ]
  },
  {
   "cell_type": "code",
   "execution_count": 30,
   "metadata": {},
   "outputs": [
    {
     "name": "stdout",
     "output_type": "stream",
     "text": [
      "[0.3817402124404907, 0.18693527579307556, 0.0982484519481659, 0.05874517560005188, 0.046087391674518585, 0.03589927405118942, 0.032703500241041183, 0.027449823915958405]\n"
     ]
    }
   ],
   "source": [
    "print(history.history['loss'], )\n",
    "predictions = [pos_count, neg_count]\n",
    "real = [real_pos, real_neg]\n",
    "labels = ['Positive', 'Negative']"
   ]
  },
  {
   "cell_type": "code",
   "execution_count": 31,
   "metadata": {},
   "outputs": [
    {
     "data": {
      "image/png": "[encoded data removed]",
      "text/plain": [
       "<Figure size 432x288 with 1 Axes>"
      ]
     },
     "metadata": {
      "needs_background": "light"
     },
     "output_type": "display_data"
    }
   ],
   "source": [
    "x = np.arange(len(labels))\n",
    "width = 0.35 \n",
    "\n",
    "fig, ax = plt.subplots()\n",
    "rects1 = ax.bar(x - width/2, real, width, label='Real')\n",
    "rects2 = ax.bar(x + width/2, predictions, width, label='Predictions')\n",
    "\n",
    "ax.set_ylabel('Scores')\n",
    "ax.set_title('Count of Classifications')\n",
    "ax.set_xticks(x)\n",
    "ax.set_xticklabels(labels)\n",
    "ax.legend()\n",
    "\n",
    "\n",
    "fig.tight_layout()\n",
    "\n",
    "plt.show()"
   ]
  },
  {
   "cell_type": "code",
   "execution_count": 32,
   "metadata": {},
   "outputs": [
    {
     "data": {
      "image/png": "[encoded data removed]",
      "text/plain": [
       "<Figure size 432x288 with 1 Axes>"
      ]
     },
     "metadata": {
      "needs_background": "light"
     },
     "output_type": "display_data"
    }
   ],
   "source": [
    "fig, ax = plt.subplots()\n",
    "loss = history.history['loss']\n",
    "epoch = [item for item in range(1,9)]\n",
    "accuracy = history.history['accuracy']\n",
    "\n",
    "ax.plot(epoch, loss, label = \"Loss\")\n",
    "ax.plot(epoch, accuracy, label = \"Accuracy\")\n",
    "\n",
    "ax.set_xlabel('Epoch')\n",
    "ax.set_title('Accuracy and Loss per epoch')\n",
    "plt.legend()\n",
    "plt.show()"
   ]
  },
  {
   "cell_type": "code",
   "execution_count": 33,
   "metadata": {},
   "outputs": [
    {
     "name": "stdout",
     "output_type": "stream",
     "text": [
      "The precision score is 0.8832391713747646\n",
      "The recall score is 0.8511796733212341\n",
      "The F1-score is 0.866913123844732\n",
      "The acc-score is 0.856\n"
     ]
    }
   ],
   "source": [
    "from sklearn.metrics import accuracy_score, precision_score, recall_score, f1_score\n",
    "y_test_arg=np.argmax(y_test,axis=1)\n",
    "Y_pred = np.argmax(model.predict(X_test),axis=1)\n",
    "\n",
    "print(\"The precision score is\",precision_score(y_test_arg, Y_pred))\n",
    "print(\"The recall score is\", recall_score(y_test_arg, Y_pred))\n",
    "print(\"The F1-score is\", f1_score(y_test_arg, Y_pred))\n",
    "print(\"The acc-score is\", accuracy_score(y_test_arg, Y_pred))"
   ]
  }
 ],
 "metadata": {
  "kernelspec": {
   "display_name": "Python 3",
   "language": "python",
   "name": "python3"
  },
  "language_info": {
   "codemirror_mode": {
    "name": "ipython",
    "version": 3
   },
   "file_extension": ".py",
   "mimetype": "text/x-python",
   "name": "python",
   "nbconvert_exporter": "python",
   "pygments_lexer": "ipython3",
   "version": "3.8.3"
  }
 },
 "nbformat": 4,
 "nbformat_minor": 5
}
